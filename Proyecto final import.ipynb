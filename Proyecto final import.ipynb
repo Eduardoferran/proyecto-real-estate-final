{
 "cells": [
  {
   "cell_type": "markdown",
   "metadata": {},
   "source": [
    "# IMPORTACIÓN DE LIBRERIAS"
   ]
  },
  {
   "cell_type": "code",
   "execution_count": 1,
   "metadata": {},
   "outputs": [],
   "source": [
    "import pandas as pd\n",
    "import matplotlib.pyplot as plt\n",
    "import numpy as np\n",
    "import requests\n",
    "import seaborn as sns\n",
    "%matplotlib inline \n",
    "\n",
    "plt.rcParams['figure.figsize']=(15, 8)\n",
    "\n",
    "pd.set_option(\"display.max_rows\",None)\n",
    "pd.set_option(\"display.max_columns\", None)\n"
   ]
  },
  {
   "cell_type": "markdown",
   "metadata": {},
   "source": [
    "# LECTURA DE CSV"
   ]
  },
  {
   "cell_type": "code",
   "execution_count": 2,
   "metadata": {},
   "outputs": [],
   "source": [
    "#Lectura of dataframes\n",
    "\n",
    "\n",
    "dfevolucion = pd.read_excel('evolucion precio vivienda 2.xls')\n",
    "dfhipotecas = pd.read_excel('hipoteca entidades financieras.xls')\n",
    "dfdeuda = pd.read_excel('deuda segun barrio y distrito.xls')\n",
    "dftransmisiones = pd.read_excel('transmisiones años posesion.xls')\n",
    "dfeurometro = pd.read_excel('euro metro por vivienda .xls')\n",
    "dfidealista = pd.read_excel('idealista  copia.xlsx')\n",
    "\n"
   ]
  },
  {
   "cell_type": "code",
   "execution_count": 3,
   "metadata": {},
   "outputs": [],
   "source": [
    "#Rename de una columna\n",
    "\n",
    "\n",
    "dfhipotecas.rename({\"Ciudad de Madrid\":\"Distrito\"},axis=1, inplace = True)\n"
   ]
  },
  {
   "cell_type": "markdown",
   "metadata": {},
   "source": [
    "# FUNCION PARA MODIFICAR COLUMNA DISTRITO"
   ]
  },
  {
   "cell_type": "code",
   "execution_count": 4,
   "metadata": {},
   "outputs": [],
   "source": [
    "def cambio(df , col):\n",
    "    df[col] = df[col].str.split('.').str[1].tolist()\n",
    "    df = df.sort_values(by = 'Distrito')\n",
    "    \n",
    "    return df"
   ]
  },
  {
   "cell_type": "code",
   "execution_count": 5,
   "metadata": {},
   "outputs": [],
   "source": [
    "evol = cambio(dfevolucion,'Distrito')"
   ]
  },
  {
   "cell_type": "code",
   "execution_count": 6,
   "metadata": {},
   "outputs": [
    {
     "data": {
      "text/plain": [
       "160"
      ]
     },
     "execution_count": 6,
     "metadata": {},
     "output_type": "execute_result"
    }
   ],
   "source": [
    "len(evol.Distrito.unique())"
   ]
  },
  {
   "cell_type": "code",
   "execution_count": 7,
   "metadata": {},
   "outputs": [],
   "source": [
    "deuda = cambio(dfdeuda,'Distrito')"
   ]
  },
  {
   "cell_type": "code",
   "execution_count": 8,
   "metadata": {},
   "outputs": [
    {
     "data": {
      "text/plain": [
       "152"
      ]
     },
     "execution_count": 8,
     "metadata": {},
     "output_type": "execute_result"
    }
   ],
   "source": [
    "len(deuda)"
   ]
  },
  {
   "cell_type": "code",
   "execution_count": 9,
   "metadata": {},
   "outputs": [],
   "source": [
    "trans = cambio(dftransmisiones,'Distrito')"
   ]
  },
  {
   "cell_type": "code",
   "execution_count": 10,
   "metadata": {},
   "outputs": [
    {
     "data": {
      "text/plain": [
       "154"
      ]
     },
     "execution_count": 10,
     "metadata": {},
     "output_type": "execute_result"
    }
   ],
   "source": [
    "len(trans)"
   ]
  },
  {
   "cell_type": "code",
   "execution_count": 11,
   "metadata": {},
   "outputs": [],
   "source": [
    "euro = cambio(dfeurometro,'Distrito')"
   ]
  },
  {
   "cell_type": "code",
   "execution_count": 12,
   "metadata": {},
   "outputs": [
    {
     "data": {
      "text/plain": [
       "152"
      ]
     },
     "execution_count": 12,
     "metadata": {},
     "output_type": "execute_result"
    }
   ],
   "source": [
    "len(euro)"
   ]
  },
  {
   "cell_type": "code",
   "execution_count": 13,
   "metadata": {
    "scrolled": false
   },
   "outputs": [],
   "source": [
    "hipo = cambio(dfhipotecas,'Distrito')"
   ]
  },
  {
   "cell_type": "code",
   "execution_count": 14,
   "metadata": {},
   "outputs": [
    {
     "data": {
      "text/plain": [
       "21"
      ]
     },
     "execution_count": 14,
     "metadata": {},
     "output_type": "execute_result"
    }
   ],
   "source": [
    "len(hipo)"
   ]
  },
  {
   "cell_type": "code",
   "execution_count": 15,
   "metadata": {},
   "outputs": [
    {
     "data": {
      "text/html": [
       "<div>\n",
       "<style scoped>\n",
       "    .dataframe tbody tr th:only-of-type {\n",
       "        vertical-align: middle;\n",
       "    }\n",
       "\n",
       "    .dataframe tbody tr th {\n",
       "        vertical-align: top;\n",
       "    }\n",
       "\n",
       "    .dataframe thead th {\n",
       "        text-align: right;\n",
       "    }\n",
       "</style>\n",
       "<table border=\"1\" class=\"dataframe\">\n",
       "  <thead>\n",
       "    <tr style=\"text-align: right;\">\n",
       "      <th></th>\n",
       "      <th>Distrito</th>\n",
       "      <th>Hipoteca media</th>\n",
       "      <th>Tipo de interés medio</th>\n",
       "      <th>20 años</th>\n",
       "    </tr>\n",
       "  </thead>\n",
       "  <tbody>\n",
       "    <tr>\n",
       "      <th>82</th>\n",
       "      <td>Abrantes</td>\n",
       "      <td>107708.87</td>\n",
       "      <td>2.59</td>\n",
       "      <td>575.30</td>\n",
       "    </tr>\n",
       "    <tr>\n",
       "      <th>17</th>\n",
       "      <td>Adelfas</td>\n",
       "      <td>215458.34</td>\n",
       "      <td>1.95</td>\n",
       "      <td>1084.39</td>\n",
       "    </tr>\n",
       "  </tbody>\n",
       "</table>\n",
       "</div>"
      ],
      "text/plain": [
       "     Distrito  Hipoteca media   Tipo de interés medio  20 años\n",
       "82   Abrantes        107708.87                   2.59   575.30\n",
       "17   Adelfas         215458.34                   1.95  1084.39"
      ]
     },
     "execution_count": 15,
     "metadata": {},
     "output_type": "execute_result"
    }
   ],
   "source": [
    "deuda.head(2)"
   ]
  },
  {
   "cell_type": "code",
   "execution_count": 16,
   "metadata": {},
   "outputs": [
    {
     "data": {
      "text/html": [
       "<div>\n",
       "<style scoped>\n",
       "    .dataframe tbody tr th:only-of-type {\n",
       "        vertical-align: middle;\n",
       "    }\n",
       "\n",
       "    .dataframe tbody tr th {\n",
       "        vertical-align: top;\n",
       "    }\n",
       "\n",
       "    .dataframe thead th {\n",
       "        text-align: right;\n",
       "    }\n",
       "</style>\n",
       "<table border=\"1\" class=\"dataframe\">\n",
       "  <thead>\n",
       "    <tr style=\"text-align: right;\">\n",
       "      <th></th>\n",
       "      <th>Distrito</th>\n",
       "      <th>Nueva</th>\n",
       "      <th>Usada</th>\n",
       "    </tr>\n",
       "  </thead>\n",
       "  <tbody>\n",
       "    <tr>\n",
       "      <th>82</th>\n",
       "      <td>Abrantes</td>\n",
       "      <td>0.0</td>\n",
       "      <td>1935.95</td>\n",
       "    </tr>\n",
       "    <tr>\n",
       "      <th>17</th>\n",
       "      <td>Adelfas</td>\n",
       "      <td>0.0</td>\n",
       "      <td>4272.23</td>\n",
       "    </tr>\n",
       "  </tbody>\n",
       "</table>\n",
       "</div>"
      ],
      "text/plain": [
       "     Distrito  Nueva    Usada\n",
       "82   Abrantes    0.0  1935.95\n",
       "17   Adelfas     0.0  4272.23"
      ]
     },
     "execution_count": 16,
     "metadata": {},
     "output_type": "execute_result"
    }
   ],
   "source": [
    "euro.head(2)"
   ]
  },
  {
   "cell_type": "markdown",
   "metadata": {},
   "source": [
    "# MERGEADO DE LOS DATAFRAMES"
   ]
  },
  {
   "cell_type": "code",
   "execution_count": 17,
   "metadata": {},
   "outputs": [],
   "source": [
    "df1 = pd.concat([deuda, euro[['Nueva', 'Usada']]], axis =1)"
   ]
  },
  {
   "cell_type": "code",
   "execution_count": 18,
   "metadata": {},
   "outputs": [],
   "source": [
    "df2 = pd.merge(df1, evol, how = 'left', left_on = df1.Distrito, right_on = evol.Distrito)"
   ]
  },
  {
   "cell_type": "code",
   "execution_count": 19,
   "metadata": {},
   "outputs": [],
   "source": [
    "df2 = df2.drop(columns = ['Distrito_x', 'Distrito_y'], axis = 1)\n",
    "df2 = df2.rename(columns = {'key_0': 'Distrito'})"
   ]
  },
  {
   "cell_type": "code",
   "execution_count": 20,
   "metadata": {},
   "outputs": [],
   "source": [
    "df3 = pd.merge(df2, trans, how = 'left', left_on = df2.Distrito, right_on = trans.Distrito)"
   ]
  },
  {
   "cell_type": "code",
   "execution_count": 21,
   "metadata": {},
   "outputs": [],
   "source": [
    "df3 = df3.drop(columns = ['Distrito_x', 'Distrito_y'], axis = 1)\n",
    "df3 = df3.rename(columns = {'key_0': 'Distrito'})"
   ]
  },
  {
   "cell_type": "code",
   "execution_count": 22,
   "metadata": {
    "scrolled": true
   },
   "outputs": [
    {
     "data": {
      "text/html": [
       "<div>\n",
       "<style scoped>\n",
       "    .dataframe tbody tr th:only-of-type {\n",
       "        vertical-align: middle;\n",
       "    }\n",
       "\n",
       "    .dataframe tbody tr th {\n",
       "        vertical-align: top;\n",
       "    }\n",
       "\n",
       "    .dataframe thead th {\n",
       "        text-align: right;\n",
       "    }\n",
       "</style>\n",
       "<table border=\"1\" class=\"dataframe\">\n",
       "  <thead>\n",
       "    <tr style=\"text-align: right;\">\n",
       "      <th></th>\n",
       "      <th>Distrito</th>\n",
       "      <th>Hipoteca media</th>\n",
       "      <th>Tipo de interés medio</th>\n",
       "      <th>20 años</th>\n",
       "      <th>Nueva</th>\n",
       "      <th>Usada</th>\n",
       "      <th>2020</th>\n",
       "      <th>2019</th>\n",
       "      <th>De 0 a 2</th>\n",
       "      <th>De 2 a 5</th>\n",
       "      <th>De 5 a 10</th>\n",
       "      <th>Más de 10</th>\n",
       "    </tr>\n",
       "  </thead>\n",
       "  <tbody>\n",
       "    <tr>\n",
       "      <th>0</th>\n",
       "      <td>Abrantes</td>\n",
       "      <td>107708.87</td>\n",
       "      <td>2.59</td>\n",
       "      <td>575.30</td>\n",
       "      <td>0.0</td>\n",
       "      <td>1935.95</td>\n",
       "      <td>1925</td>\n",
       "      <td>1883</td>\n",
       "      <td>5</td>\n",
       "      <td>4</td>\n",
       "      <td>7</td>\n",
       "      <td>0</td>\n",
       "    </tr>\n",
       "    <tr>\n",
       "      <th>1</th>\n",
       "      <td>Adelfas</td>\n",
       "      <td>215458.34</td>\n",
       "      <td>1.95</td>\n",
       "      <td>1084.39</td>\n",
       "      <td>0.0</td>\n",
       "      <td>4272.23</td>\n",
       "      <td>NaN</td>\n",
       "      <td>NaN</td>\n",
       "      <td>41</td>\n",
       "      <td>13</td>\n",
       "      <td>12</td>\n",
       "      <td>42</td>\n",
       "    </tr>\n",
       "  </tbody>\n",
       "</table>\n",
       "</div>"
      ],
      "text/plain": [
       "    Distrito  Hipoteca media   Tipo de interés medio  20 años  Nueva    Usada  \\\n",
       "0   Abrantes        107708.87                   2.59   575.30    0.0  1935.95   \n",
       "1   Adelfas         215458.34                   1.95  1084.39    0.0  4272.23   \n",
       "\n",
       "   2020  2019 De 0 a 2 De 2 a 5  De 5 a 10 Más de 10  \n",
       "0  1925  1883        5         4         7         0  \n",
       "1   NaN   NaN       41        13        12        42  "
      ]
     },
     "execution_count": 22,
     "metadata": {},
     "output_type": "execute_result"
    }
   ],
   "source": [
    "df3.head(2)"
   ]
  },
  {
   "cell_type": "markdown",
   "metadata": {},
   "source": [
    "# SCRAPING DE IDEALISTA\n",
    "\n",
    "Finalmente no puedo usarlo por que los datos no coinciden "
   ]
  },
  {
   "cell_type": "code",
   "execution_count": 23,
   "metadata": {},
   "outputs": [],
   "source": [
    "#import time\n",
    "#from selenium import webdriver\n",
    "\n",
    "\n",
    "#url='https://www.idealista.com/sala-de-prensa/informes-precio-vivienda/venta/madrid-comunidad/report/'\n",
    "#PATH='chromedriver'\n",
    "#driver=webdriver.Chrome(PATH)\n",
    "#driver.get(url)\n",
    "\n",
    "#time.sleep(20) \n",
    "\n",
    "#aceptar=driver.find_element_by_xpath('/html/body/div[1]/div/div/div/div/div[2]/button[2]')\n",
    "\n",
    "#time.sleep(40) \n",
    "\n",
    "#cabeceras=driver.find_element_by_tag_name('thead')\n",
    "\n",
    "#cabeceras=[c.text for c in cabeceras.find_elements_by_tag_name('th')]\n",
    "\n",
    "\n",
    "#tabla=driver.find_element_by_tag_name('tbody')\n",
    "\n",
    "#filas= tabla.find_elements_by_tag_name('tr')\n",
    "\n",
    "#datos=[]\n",
    "\n",
    "#for f in filas:\n",
    "    \n",
    "    #datos.append([e.text for e in f.find_elements_by_tag_name('td')])\n",
    "\n",
    "\n",
    "#datos=[[e.text for e in f.find_elements_by_tag_name('td')] for f in filas]\n",
    "\n",
    "\n",
    "#driver.quit()\n"
   ]
  },
  {
   "cell_type": "code",
   "execution_count": 24,
   "metadata": {},
   "outputs": [
    {
     "data": {
      "text/html": [
       "<div>\n",
       "<style scoped>\n",
       "    .dataframe tbody tr th:only-of-type {\n",
       "        vertical-align: middle;\n",
       "    }\n",
       "\n",
       "    .dataframe tbody tr th {\n",
       "        vertical-align: top;\n",
       "    }\n",
       "\n",
       "    .dataframe thead th {\n",
       "        text-align: right;\n",
       "    }\n",
       "</style>\n",
       "<table border=\"1\" class=\"dataframe\">\n",
       "  <thead>\n",
       "    <tr style=\"text-align: right;\">\n",
       "      <th></th>\n",
       "      <th>Distrito</th>\n",
       "      <th>Bancos Libre</th>\n",
       "      <th>Bancos Protegida</th>\n",
       "      <th>Unnamed: 3</th>\n",
       "      <th>Private equity libre</th>\n",
       "      <th>Private equity lprotegida</th>\n",
       "    </tr>\n",
       "  </thead>\n",
       "  <tbody>\n",
       "    <tr>\n",
       "      <th>0</th>\n",
       "      <td>Centro</td>\n",
       "      <td>93.79</td>\n",
       "      <td>0.0</td>\n",
       "      <td>NaN</td>\n",
       "      <td>6.21</td>\n",
       "      <td>0.0</td>\n",
       "    </tr>\n",
       "    <tr>\n",
       "      <th>1</th>\n",
       "      <td>Arganzuela</td>\n",
       "      <td>99.45</td>\n",
       "      <td>0.3</td>\n",
       "      <td>NaN</td>\n",
       "      <td>0.25</td>\n",
       "      <td>0.0</td>\n",
       "    </tr>\n",
       "    <tr>\n",
       "      <th>2</th>\n",
       "      <td>Retiro</td>\n",
       "      <td>78.14</td>\n",
       "      <td>0.0</td>\n",
       "      <td>NaN</td>\n",
       "      <td>21.86</td>\n",
       "      <td>0.0</td>\n",
       "    </tr>\n",
       "    <tr>\n",
       "      <th>3</th>\n",
       "      <td>Salamanca</td>\n",
       "      <td>83.61</td>\n",
       "      <td>0.0</td>\n",
       "      <td>NaN</td>\n",
       "      <td>16.39</td>\n",
       "      <td>0.0</td>\n",
       "    </tr>\n",
       "  </tbody>\n",
       "</table>\n",
       "</div>"
      ],
      "text/plain": [
       "      Distrito  Bancos Libre  Bancos Protegida  Unnamed: 3  \\\n",
       "0       Centro         93.79               0.0         NaN   \n",
       "1   Arganzuela         99.45               0.3         NaN   \n",
       "2       Retiro         78.14               0.0         NaN   \n",
       "3    Salamanca         83.61               0.0         NaN   \n",
       "\n",
       "   Private equity libre  Private equity lprotegida  \n",
       "0                  6.21                        0.0  \n",
       "1                  0.25                        0.0  \n",
       "2                 21.86                        0.0  \n",
       "3                 16.39                        0.0  "
      ]
     },
     "execution_count": 24,
     "metadata": {},
     "output_type": "execute_result"
    }
   ],
   "source": [
    "dfhipotecas.head(4)"
   ]
  },
  {
   "cell_type": "code",
   "execution_count": 25,
   "metadata": {},
   "outputs": [
    {
     "data": {
      "text/html": [
       "<div>\n",
       "<style scoped>\n",
       "    .dataframe tbody tr th:only-of-type {\n",
       "        vertical-align: middle;\n",
       "    }\n",
       "\n",
       "    .dataframe tbody tr th {\n",
       "        vertical-align: top;\n",
       "    }\n",
       "\n",
       "    .dataframe thead th {\n",
       "        text-align: right;\n",
       "    }\n",
       "</style>\n",
       "<table border=\"1\" class=\"dataframe\">\n",
       "  <thead>\n",
       "    <tr style=\"text-align: right;\">\n",
       "      <th></th>\n",
       "      <th>Distrito</th>\n",
       "      <th>Bancos Libre</th>\n",
       "      <th>Bancos Protegida</th>\n",
       "      <th>Unnamed: 3</th>\n",
       "      <th>Private equity libre</th>\n",
       "      <th>Private equity lprotegida</th>\n",
       "    </tr>\n",
       "  </thead>\n",
       "  <tbody>\n",
       "    <tr>\n",
       "      <th>0</th>\n",
       "      <td>Centro</td>\n",
       "      <td>93.79</td>\n",
       "      <td>0.0</td>\n",
       "      <td>NaN</td>\n",
       "      <td>6.21</td>\n",
       "      <td>0.0</td>\n",
       "    </tr>\n",
       "    <tr>\n",
       "      <th>1</th>\n",
       "      <td>Arganzuela</td>\n",
       "      <td>99.45</td>\n",
       "      <td>0.3</td>\n",
       "      <td>NaN</td>\n",
       "      <td>0.25</td>\n",
       "      <td>0.0</td>\n",
       "    </tr>\n",
       "    <tr>\n",
       "      <th>2</th>\n",
       "      <td>Retiro</td>\n",
       "      <td>78.14</td>\n",
       "      <td>0.0</td>\n",
       "      <td>NaN</td>\n",
       "      <td>21.86</td>\n",
       "      <td>0.0</td>\n",
       "    </tr>\n",
       "    <tr>\n",
       "      <th>3</th>\n",
       "      <td>Salamanca</td>\n",
       "      <td>83.61</td>\n",
       "      <td>0.0</td>\n",
       "      <td>NaN</td>\n",
       "      <td>16.39</td>\n",
       "      <td>0.0</td>\n",
       "    </tr>\n",
       "  </tbody>\n",
       "</table>\n",
       "</div>"
      ],
      "text/plain": [
       "      Distrito  Bancos Libre  Bancos Protegida  Unnamed: 3  \\\n",
       "0       Centro         93.79               0.0         NaN   \n",
       "1   Arganzuela         99.45               0.3         NaN   \n",
       "2       Retiro         78.14               0.0         NaN   \n",
       "3    Salamanca         83.61               0.0         NaN   \n",
       "\n",
       "   Private equity libre  Private equity lprotegida  \n",
       "0                  6.21                        0.0  \n",
       "1                  0.25                        0.0  \n",
       "2                 21.86                        0.0  \n",
       "3                 16.39                        0.0  "
      ]
     },
     "execution_count": 25,
     "metadata": {},
     "output_type": "execute_result"
    }
   ],
   "source": [
    "dfhipotecas.head(4)"
   ]
  },
  {
   "cell_type": "code",
   "execution_count": 26,
   "metadata": {},
   "outputs": [
    {
     "data": {
      "text/html": [
       "<div>\n",
       "<style scoped>\n",
       "    .dataframe tbody tr th:only-of-type {\n",
       "        vertical-align: middle;\n",
       "    }\n",
       "\n",
       "    .dataframe tbody tr th {\n",
       "        vertical-align: top;\n",
       "    }\n",
       "\n",
       "    .dataframe thead th {\n",
       "        text-align: right;\n",
       "    }\n",
       "</style>\n",
       "<table border=\"1\" class=\"dataframe\">\n",
       "  <thead>\n",
       "    <tr style=\"text-align: right;\">\n",
       "      <th></th>\n",
       "      <th>Distrito</th>\n",
       "      <th>De 0 a 2</th>\n",
       "      <th>De 2 a 5</th>\n",
       "      <th>De 5 a 10</th>\n",
       "      <th>Más de 10</th>\n",
       "    </tr>\n",
       "  </thead>\n",
       "  <tbody>\n",
       "    <tr>\n",
       "      <th>0</th>\n",
       "      <td>NaN</td>\n",
       "      <td>De 0 a 2</td>\n",
       "      <td>De 2 a 5</td>\n",
       "      <td>De 5 a 10</td>\n",
       "      <td>Más de 10</td>\n",
       "    </tr>\n",
       "    <tr>\n",
       "      <th>1</th>\n",
       "      <td>NaN</td>\n",
       "      <td>3304</td>\n",
       "      <td>1868</td>\n",
       "      <td>1705</td>\n",
       "      <td>7114</td>\n",
       "    </tr>\n",
       "    <tr>\n",
       "      <th>2</th>\n",
       "      <td>Centro</td>\n",
       "      <td>239</td>\n",
       "      <td>170</td>\n",
       "      <td>173</td>\n",
       "      <td>499</td>\n",
       "    </tr>\n",
       "    <tr>\n",
       "      <th>3</th>\n",
       "      <td>Palacio</td>\n",
       "      <td>35</td>\n",
       "      <td>13</td>\n",
       "      <td>6</td>\n",
       "      <td>55</td>\n",
       "    </tr>\n",
       "  </tbody>\n",
       "</table>\n",
       "</div>"
      ],
      "text/plain": [
       "   Distrito  De 0 a 2  De 2 a 5   De 5 a 10  Más de 10\n",
       "0       NaN  De 0 a 2  De 2 a 5   De 5 a 10  Más de 10\n",
       "1       NaN      3304       1868       1705       7114\n",
       "2    Centro       239        170        173        499\n",
       "3   Palacio        35         13          6         55"
      ]
     },
     "execution_count": 26,
     "metadata": {},
     "output_type": "execute_result"
    }
   ],
   "source": [
    "dftransmisiones.head(4)"
   ]
  },
  {
   "cell_type": "code",
   "execution_count": 27,
   "metadata": {},
   "outputs": [
    {
     "data": {
      "text/html": [
       "<div>\n",
       "<style scoped>\n",
       "    .dataframe tbody tr th:only-of-type {\n",
       "        vertical-align: middle;\n",
       "    }\n",
       "\n",
       "    .dataframe tbody tr th {\n",
       "        vertical-align: top;\n",
       "    }\n",
       "\n",
       "    .dataframe thead th {\n",
       "        text-align: right;\n",
       "    }\n",
       "</style>\n",
       "<table border=\"1\" class=\"dataframe\">\n",
       "  <thead>\n",
       "    <tr style=\"text-align: right;\">\n",
       "      <th></th>\n",
       "      <th>Distrito</th>\n",
       "      <th>Nueva</th>\n",
       "      <th>Usada</th>\n",
       "    </tr>\n",
       "  </thead>\n",
       "  <tbody>\n",
       "    <tr>\n",
       "      <th>0</th>\n",
       "      <td>Centro</td>\n",
       "      <td>5468.63</td>\n",
       "      <td>5194.16</td>\n",
       "    </tr>\n",
       "    <tr>\n",
       "      <th>1</th>\n",
       "      <td>Palacio</td>\n",
       "      <td>5082.76</td>\n",
       "      <td>5020.78</td>\n",
       "    </tr>\n",
       "    <tr>\n",
       "      <th>2</th>\n",
       "      <td>Embajadores</td>\n",
       "      <td>5464.51</td>\n",
       "      <td>4496.74</td>\n",
       "    </tr>\n",
       "    <tr>\n",
       "      <th>3</th>\n",
       "      <td>Cortes</td>\n",
       "      <td>0.00</td>\n",
       "      <td>4989.95</td>\n",
       "    </tr>\n",
       "  </tbody>\n",
       "</table>\n",
       "</div>"
      ],
      "text/plain": [
       "       Distrito    Nueva    Usada\n",
       "0        Centro  5468.63  5194.16\n",
       "1       Palacio  5082.76  5020.78\n",
       "2   Embajadores  5464.51  4496.74\n",
       "3        Cortes     0.00  4989.95"
      ]
     },
     "execution_count": 27,
     "metadata": {},
     "output_type": "execute_result"
    }
   ],
   "source": [
    "dfeurometro.head(4)"
   ]
  },
  {
   "cell_type": "code",
   "execution_count": 28,
   "metadata": {},
   "outputs": [
    {
     "data": {
      "text/html": [
       "<div>\n",
       "<style scoped>\n",
       "    .dataframe tbody tr th:only-of-type {\n",
       "        vertical-align: middle;\n",
       "    }\n",
       "\n",
       "    .dataframe tbody tr th {\n",
       "        vertical-align: top;\n",
       "    }\n",
       "\n",
       "    .dataframe thead th {\n",
       "        text-align: right;\n",
       "    }\n",
       "</style>\n",
       "<table border=\"1\" class=\"dataframe\">\n",
       "  <thead>\n",
       "    <tr style=\"text-align: right;\">\n",
       "      <th></th>\n",
       "      <th>Localización</th>\n",
       "      <th>Precio m2 mayo 2021</th>\n",
       "      <th>Máximo histórico</th>\n",
       "      <th>Fecha</th>\n",
       "    </tr>\n",
       "  </thead>\n",
       "  <tbody>\n",
       "    <tr>\n",
       "      <th>0</th>\n",
       "      <td>Madrid Comunidad</td>\n",
       "      <td>2927</td>\n",
       "      <td>2927</td>\n",
       "      <td>2021</td>\n",
       "    </tr>\n",
       "    <tr>\n",
       "      <th>1</th>\n",
       "      <td>Madrid provincia</td>\n",
       "      <td>2927</td>\n",
       "      <td>2927</td>\n",
       "      <td>2021</td>\n",
       "    </tr>\n",
       "    <tr>\n",
       "      <th>2</th>\n",
       "      <td>Madrid</td>\n",
       "      <td>3746</td>\n",
       "      <td>3822</td>\n",
       "      <td>2019</td>\n",
       "    </tr>\n",
       "    <tr>\n",
       "      <th>3</th>\n",
       "      <td>Alcalá de Henares</td>\n",
       "      <td>1838</td>\n",
       "      <td>2472</td>\n",
       "      <td>2008</td>\n",
       "    </tr>\n",
       "  </tbody>\n",
       "</table>\n",
       "</div>"
      ],
      "text/plain": [
       "        Localización  Precio m2 mayo 2021  Máximo histórico  Fecha\n",
       "0   Madrid Comunidad                 2927              2927   2021\n",
       "1   Madrid provincia                 2927              2927   2021\n",
       "2             Madrid                 3746              3822   2019\n",
       "3  Alcalá de Henares                 1838              2472   2008"
      ]
     },
     "execution_count": 28,
     "metadata": {},
     "output_type": "execute_result"
    }
   ],
   "source": [
    "dfidealista.head(4)"
   ]
  },
  {
   "cell_type": "markdown",
   "metadata": {},
   "source": [
    "# RENAME OF COLUMS, DROP"
   ]
  },
  {
   "cell_type": "code",
   "execution_count": 29,
   "metadata": {},
   "outputs": [],
   "source": [
    "#Rename of columns dftransmisiones\n",
    "\n",
    "dftransmisiones.rename({\"Columna1\":\"Ciudad de Madrid\",\"Columna3\":\"0 a 2 años\",\n",
    "                        \"Columna4\":\"2 a 4 años\",\"Columna5\":\"4 a 6 años\",\"Columna6\":\"Mas de 10 años\" },axis=1, inplace = True)\n",
    "\n",
    "\n",
    "\n",
    "dfevolucion.rename({\"Distrito\":\"Ciudad de Madrid\"},axis=1, inplace = True)\n",
    "\n",
    "dfeurometro.rename({\"ciudad de madrid\":\"Ciudad de Madrid\"},axis=1, inplace = True)\n",
    "\n",
    "#Drop rows\n",
    "\n",
    "\n",
    "dftransmisiones = dftransmisiones.iloc[1: , :]\n",
    "dfhipotecas.drop('Unnamed: 3', axis=1, inplace=True)"
   ]
  },
  {
   "cell_type": "markdown",
   "metadata": {},
   "source": [
    "# CONVERTED FROM DECIMALS TO INTEGERS"
   ]
  },
  {
   "cell_type": "code",
   "execution_count": 30,
   "metadata": {},
   "outputs": [],
   "source": [
    "#dfeurometro = dfeurometro.astype({\"Nueva\":'int', \"Usada\":'int'})"
   ]
  },
  {
   "cell_type": "code",
   "execution_count": 31,
   "metadata": {},
   "outputs": [],
   "source": [
    "#limpiar_hipoteca(dfhipotecas,\"Ciudad de Madrid\")"
   ]
  },
  {
   "cell_type": "markdown",
   "metadata": {},
   "source": [
    "# FINAL DATAFRAMES"
   ]
  },
  {
   "cell_type": "code",
   "execution_count": 32,
   "metadata": {},
   "outputs": [],
   "source": [
    "#Dataframes limpios\n",
    "\n",
    "#dfeurometro = limpiar_distritos(dfeurometro,\"Ciudad de Madrid\")\n",
    "#dfhipotecas = limpiar_distritos(dfhipotecas,\"Ciudad de Madrid\")\n",
    "#dfdeuda = limpiar_distritos(dfdeuda,\"Ciudad de Madrid\")\n",
    "#dftransmisiones = limpiar_distritos(dftransmisiones,\"Ciudad de Madrid\")\n",
    "#dfevolucion = limpiar_distritos(dfevolucion,\"Ciudad de Madrid\")\n"
   ]
  },
  {
   "cell_type": "markdown",
   "metadata": {},
   "source": [
    "# WEB SCRAPING SELENIUM"
   ]
  },
  {
   "cell_type": "markdown",
   "metadata": {},
   "source": [
    "Finalmente no lo uso por que los datos no coinciden. Por lo tanto puedo realizar el analisis con los demas Dataframes"
   ]
  },
  {
   "cell_type": "code",
   "execution_count": 33,
   "metadata": {},
   "outputs": [],
   "source": [
    "\n",
    "\n",
    "\n",
    "#import time\n",
    "#from selenium import webdriver\n",
    "\n",
    "#url='https://www.idealista.com/sala-de-prensa/informes-precio-vivienda/venta/madrid-comunidad/report/'\n",
    "#PATH='chromedriver'\n",
    "#driver=webdriver.Chrome(PATH)\n",
    "#driver.get(url)\n",
    "#time.sleep(40) \n",
    "#aceptar=driver.find_element_by_xpath('/html/body/div[1]/div/div/div/div/div[2]/button[2]')\n",
    "#time.sleep(40) \n",
    "#cabeceras=driver.find_element_by_tag_name('thead')\n",
    "#cabeceras=[c.text for c in cabeceras.find_elements_by_tag_name('th')]\n",
    "#tabla=driver.find_element_by_tag_name('tbody')\n",
    "#filas= tabla.find_elements_by_tag_name('tr')\n",
    "\n",
    "\n",
    "#datos=[]\n",
    "\n",
    "\n",
    "\n",
    "#for f in filas:    \n",
    "    #datos.append([e.text for e in f.find_elements_by_tag_name('td')])\n",
    "#datos=[[e.text for e in f.find_elements_by_tag_name('td')] for f in filas]\n",
    "#driver.quit()\n"
   ]
  },
  {
   "cell_type": "code",
   "execution_count": 38,
   "metadata": {},
   "outputs": [],
   "source": [
    "#final = pd.merge(df3, dfidealista, how = 'left', left_on = df3.Distrito, right_on = dfidealista.Distrito)"
   ]
  },
  {
   "cell_type": "code",
   "execution_count": 39,
   "metadata": {},
   "outputs": [],
   "source": [
    "#final = final.drop(columns = ['Distrito_x', 'Distrito_y'], axis = 1)\n",
    "#final = final.rename(columns = {'key_0': 'Distrito'})"
   ]
  },
  {
   "cell_type": "markdown",
   "metadata": {},
   "source": [
    " EXPORTO DATAFRAME FINAL"
   ]
  },
  {
   "cell_type": "code",
   "execution_count": 40,
   "metadata": {},
   "outputs": [],
   "source": [
    "df3.to_excel(\"real_estate.xlsx\")"
   ]
  },
  {
   "cell_type": "markdown",
   "metadata": {},
   "source": [
    "# EDA & VISUALIZACION"
   ]
  },
  {
   "cell_type": "code",
   "execution_count": 41,
   "metadata": {},
   "outputs": [
    {
     "data": {
      "text/html": [
       "<div>\n",
       "<style scoped>\n",
       "    .dataframe tbody tr th:only-of-type {\n",
       "        vertical-align: middle;\n",
       "    }\n",
       "\n",
       "    .dataframe tbody tr th {\n",
       "        vertical-align: top;\n",
       "    }\n",
       "\n",
       "    .dataframe thead th {\n",
       "        text-align: right;\n",
       "    }\n",
       "</style>\n",
       "<table border=\"1\" class=\"dataframe\">\n",
       "  <thead>\n",
       "    <tr style=\"text-align: right;\">\n",
       "      <th></th>\n",
       "      <th>Hipoteca media</th>\n",
       "      <th>Tipo de interés medio</th>\n",
       "      <th>20 años</th>\n",
       "      <th>Nueva</th>\n",
       "      <th>Usada</th>\n",
       "    </tr>\n",
       "  </thead>\n",
       "  <tbody>\n",
       "    <tr>\n",
       "      <th>count</th>\n",
       "      <td>1.580000e+02</td>\n",
       "      <td>158.000000</td>\n",
       "      <td>158.000000</td>\n",
       "      <td>158.000000</td>\n",
       "      <td>158.000000</td>\n",
       "    </tr>\n",
       "    <tr>\n",
       "      <th>mean</th>\n",
       "      <td>2.172908e+05</td>\n",
       "      <td>2.191646</td>\n",
       "      <td>1111.049747</td>\n",
       "      <td>1728.117215</td>\n",
       "      <td>3351.017595</td>\n",
       "    </tr>\n",
       "    <tr>\n",
       "      <th>std</th>\n",
       "      <td>1.442536e+05</td>\n",
       "      <td>0.437554</td>\n",
       "      <td>713.459946</td>\n",
       "      <td>1894.445226</td>\n",
       "      <td>1573.034197</td>\n",
       "    </tr>\n",
       "    <tr>\n",
       "      <th>min</th>\n",
       "      <td>0.000000e+00</td>\n",
       "      <td>0.000000</td>\n",
       "      <td>0.000000</td>\n",
       "      <td>0.000000</td>\n",
       "      <td>0.000000</td>\n",
       "    </tr>\n",
       "    <tr>\n",
       "      <th>25%</th>\n",
       "      <td>1.252382e+05</td>\n",
       "      <td>2.002500</td>\n",
       "      <td>658.777500</td>\n",
       "      <td>0.000000</td>\n",
       "      <td>2208.037500</td>\n",
       "    </tr>\n",
       "    <tr>\n",
       "      <th>50%</th>\n",
       "      <td>1.666653e+05</td>\n",
       "      <td>2.180000</td>\n",
       "      <td>880.190000</td>\n",
       "      <td>1785.460000</td>\n",
       "      <td>3206.800000</td>\n",
       "    </tr>\n",
       "    <tr>\n",
       "      <th>75%</th>\n",
       "      <td>2.588401e+05</td>\n",
       "      <td>2.370000</td>\n",
       "      <td>1322.715000</td>\n",
       "      <td>2912.382500</td>\n",
       "      <td>4403.470000</td>\n",
       "    </tr>\n",
       "    <tr>\n",
       "      <th>max</th>\n",
       "      <td>1.002489e+06</td>\n",
       "      <td>4.820000</td>\n",
       "      <td>4974.210000</td>\n",
       "      <td>6827.790000</td>\n",
       "      <td>9249.310000</td>\n",
       "    </tr>\n",
       "  </tbody>\n",
       "</table>\n",
       "</div>"
      ],
      "text/plain": [
       "       Hipoteca media   Tipo de interés medio      20 años        Nueva  \\\n",
       "count     1.580000e+02             158.000000   158.000000   158.000000   \n",
       "mean      2.172908e+05               2.191646  1111.049747  1728.117215   \n",
       "std       1.442536e+05               0.437554   713.459946  1894.445226   \n",
       "min       0.000000e+00               0.000000     0.000000     0.000000   \n",
       "25%       1.252382e+05               2.002500   658.777500     0.000000   \n",
       "50%       1.666653e+05               2.180000   880.190000  1785.460000   \n",
       "75%       2.588401e+05               2.370000  1322.715000  2912.382500   \n",
       "max       1.002489e+06               4.820000  4974.210000  6827.790000   \n",
       "\n",
       "             Usada  \n",
       "count   158.000000  \n",
       "mean   3351.017595  \n",
       "std    1573.034197  \n",
       "min       0.000000  \n",
       "25%    2208.037500  \n",
       "50%    3206.800000  \n",
       "75%    4403.470000  \n",
       "max    9249.310000  "
      ]
     },
     "execution_count": 41,
     "metadata": {},
     "output_type": "execute_result"
    }
   ],
   "source": [
    "df3.describe()"
   ]
  },
  {
   "cell_type": "code",
   "execution_count": 42,
   "metadata": {},
   "outputs": [
    {
     "data": {
      "text/html": [
       "<div>\n",
       "<style scoped>\n",
       "    .dataframe tbody tr th:only-of-type {\n",
       "        vertical-align: middle;\n",
       "    }\n",
       "\n",
       "    .dataframe tbody tr th {\n",
       "        vertical-align: top;\n",
       "    }\n",
       "\n",
       "    .dataframe thead th {\n",
       "        text-align: right;\n",
       "    }\n",
       "</style>\n",
       "<table border=\"1\" class=\"dataframe\">\n",
       "  <thead>\n",
       "    <tr style=\"text-align: right;\">\n",
       "      <th></th>\n",
       "      <th>Hipoteca media</th>\n",
       "      <th>Tipo de interés medio</th>\n",
       "      <th>20 años</th>\n",
       "      <th>Nueva</th>\n",
       "      <th>Usada</th>\n",
       "    </tr>\n",
       "  </thead>\n",
       "  <tbody>\n",
       "    <tr>\n",
       "      <th>Hipoteca media</th>\n",
       "      <td>1.000000</td>\n",
       "      <td>-0.278760</td>\n",
       "      <td>0.999461</td>\n",
       "      <td>-0.016553</td>\n",
       "      <td>0.738392</td>\n",
       "    </tr>\n",
       "    <tr>\n",
       "      <th>Tipo de interés medio</th>\n",
       "      <td>-0.278760</td>\n",
       "      <td>1.000000</td>\n",
       "      <td>-0.255253</td>\n",
       "      <td>-0.011255</td>\n",
       "      <td>-0.220825</td>\n",
       "    </tr>\n",
       "    <tr>\n",
       "      <th>20 años</th>\n",
       "      <td>0.999461</td>\n",
       "      <td>-0.255253</td>\n",
       "      <td>1.000000</td>\n",
       "      <td>-0.019821</td>\n",
       "      <td>0.737729</td>\n",
       "    </tr>\n",
       "    <tr>\n",
       "      <th>Nueva</th>\n",
       "      <td>-0.016553</td>\n",
       "      <td>-0.011255</td>\n",
       "      <td>-0.019821</td>\n",
       "      <td>1.000000</td>\n",
       "      <td>0.040661</td>\n",
       "    </tr>\n",
       "    <tr>\n",
       "      <th>Usada</th>\n",
       "      <td>0.738392</td>\n",
       "      <td>-0.220825</td>\n",
       "      <td>0.737729</td>\n",
       "      <td>0.040661</td>\n",
       "      <td>1.000000</td>\n",
       "    </tr>\n",
       "  </tbody>\n",
       "</table>\n",
       "</div>"
      ],
      "text/plain": [
       "                       Hipoteca media   Tipo de interés medio   20 años  \\\n",
       "Hipoteca media                1.000000              -0.278760  0.999461   \n",
       "Tipo de interés medio        -0.278760               1.000000 -0.255253   \n",
       "20 años                       0.999461              -0.255253  1.000000   \n",
       "Nueva                        -0.016553              -0.011255 -0.019821   \n",
       "Usada                         0.738392              -0.220825  0.737729   \n",
       "\n",
       "                          Nueva     Usada  \n",
       "Hipoteca media        -0.016553  0.738392  \n",
       "Tipo de interés medio -0.011255 -0.220825  \n",
       "20 años               -0.019821  0.737729  \n",
       "Nueva                  1.000000  0.040661  \n",
       "Usada                  0.040661  1.000000  "
      ]
     },
     "execution_count": 42,
     "metadata": {},
     "output_type": "execute_result"
    }
   ],
   "source": [
    "df3.corr(method='pearson')"
   ]
  },
  {
   "cell_type": "code",
   "execution_count": 43,
   "metadata": {},
   "outputs": [
    {
     "ename": "ValueError",
     "evalue": "'real_estate.xlsx' is not one of the example datasets.",
     "output_type": "error",
     "traceback": [
      "\u001b[0;31m---------------------------------------------------------------------------\u001b[0m",
      "\u001b[0;31mValueError\u001b[0m                                Traceback (most recent call last)",
      "\u001b[0;32m<ipython-input-43-04b9fd27f613>\u001b[0m in \u001b[0;36m<module>\u001b[0;34m\u001b[0m\n\u001b[0;32m----> 1\u001b[0;31m \u001b[0mdf\u001b[0m \u001b[0;34m=\u001b[0m\u001b[0msns\u001b[0m\u001b[0;34m.\u001b[0m\u001b[0mload_dataset\u001b[0m\u001b[0;34m(\u001b[0m\u001b[0;34m'real_estate.xlsx'\u001b[0m\u001b[0;34m)\u001b[0m\u001b[0;34m\u001b[0m\u001b[0;34m\u001b[0m\u001b[0m\n\u001b[0m\u001b[1;32m      2\u001b[0m \u001b[0;34m\u001b[0m\u001b[0m\n\u001b[1;32m      3\u001b[0m \u001b[0mdf\u001b[0m\u001b[0;34m.\u001b[0m\u001b[0mhead\u001b[0m\u001b[0;34m(\u001b[0m\u001b[0;34m)\u001b[0m\u001b[0;34m\u001b[0m\u001b[0;34m\u001b[0m\u001b[0m\n",
      "\u001b[0;32m~/opt/anaconda3/envs/clase/lib/python3.8/site-packages/seaborn/utils.py\u001b[0m in \u001b[0;36mload_dataset\u001b[0;34m(name, cache, data_home, **kws)\u001b[0m\n\u001b[1;32m    484\u001b[0m         \u001b[0;32mif\u001b[0m \u001b[0;32mnot\u001b[0m \u001b[0mos\u001b[0m\u001b[0;34m.\u001b[0m\u001b[0mpath\u001b[0m\u001b[0;34m.\u001b[0m\u001b[0mexists\u001b[0m\u001b[0;34m(\u001b[0m\u001b[0mcache_path\u001b[0m\u001b[0;34m)\u001b[0m\u001b[0;34m:\u001b[0m\u001b[0;34m\u001b[0m\u001b[0;34m\u001b[0m\u001b[0m\n\u001b[1;32m    485\u001b[0m             \u001b[0;32mif\u001b[0m \u001b[0mname\u001b[0m \u001b[0;32mnot\u001b[0m \u001b[0;32min\u001b[0m \u001b[0mget_dataset_names\u001b[0m\u001b[0;34m(\u001b[0m\u001b[0;34m)\u001b[0m\u001b[0;34m:\u001b[0m\u001b[0;34m\u001b[0m\u001b[0;34m\u001b[0m\u001b[0m\n\u001b[0;32m--> 486\u001b[0;31m                 \u001b[0;32mraise\u001b[0m \u001b[0mValueError\u001b[0m\u001b[0;34m(\u001b[0m\u001b[0;34mf\"'{name}' is not one of the example datasets.\"\u001b[0m\u001b[0;34m)\u001b[0m\u001b[0;34m\u001b[0m\u001b[0;34m\u001b[0m\u001b[0m\n\u001b[0m\u001b[1;32m    487\u001b[0m             \u001b[0murlretrieve\u001b[0m\u001b[0;34m(\u001b[0m\u001b[0mfull_path\u001b[0m\u001b[0;34m,\u001b[0m \u001b[0mcache_path\u001b[0m\u001b[0;34m)\u001b[0m\u001b[0;34m\u001b[0m\u001b[0;34m\u001b[0m\u001b[0m\n\u001b[1;32m    488\u001b[0m         \u001b[0mfull_path\u001b[0m \u001b[0;34m=\u001b[0m \u001b[0mcache_path\u001b[0m\u001b[0;34m\u001b[0m\u001b[0;34m\u001b[0m\u001b[0m\n",
      "\u001b[0;31mValueError\u001b[0m: 'real_estate.xlsx' is not one of the example datasets."
     ]
    }
   ],
   "source": [
    "df =sns.load_dataset('real_estate.xlsx') \n",
    "\n",
    "df.head()"
   ]
  },
  {
   "cell_type": "code",
   "execution_count": null,
   "metadata": {},
   "outputs": [],
   "source": [
    "sns.set(style='white')   # estilo blanco\n",
    "\n",
    "\n",
    "mascara=np.triu(np.ones_like(corr, dtype=bool))  # genera una mascara para la triangular superior\n",
    "\n",
    "color_map=sns.diverging_palette(0, 10, as_cmap=True)  # paleta de colores\n",
    "\n",
    "\n",
    "sns.heatmap(corr,  # mapa de calor\n",
    "           mask=mascara,\n",
    "           cmap=color_map,\n",
    "           vmax=1,  # limite vertical\n",
    "           center=0, \n",
    "           square=True,  # datos como cuadrados\n",
    "           linewidth=.5, # ancho de linea\n",
    "           cbar_kws={'shrink': .5}  # barra lateral\n",
    "           );"
   ]
  }
 ],
 "metadata": {
  "kernelspec": {
   "display_name": "clase",
   "language": "python",
   "name": "clase"
  },
  "language_info": {
   "codemirror_mode": {
    "name": "ipython",
    "version": 3
   },
   "file_extension": ".py",
   "mimetype": "text/x-python",
   "name": "python",
   "nbconvert_exporter": "python",
   "pygments_lexer": "ipython3",
   "version": "3.8.5"
  }
 },
 "nbformat": 4,
 "nbformat_minor": 4
}
